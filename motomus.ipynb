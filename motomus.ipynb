{
 "cells": [
  {
   "cell_type": "code",
   "execution_count": 26,
   "metadata": {},
   "outputs": [],
   "source": [
    "import speech_recognition as sr #convert speech to text\n",
    "import datetime #for fetching date and time\n",
    "import wikipedia\n",
    "import webbrowser\n",
    "import requests\n",
    "import playsound # to play saved mp3 file \n",
    "from gtts import gTTS # google text to speech \n",
    "import os # to save/open files \n",
    "import wolframalpha # to calculate strings into formula\n",
    "from selenium import webdriver # to control browser operations\n",
    "\n",
    "from AppKit     import NSSound\n",
    "from Foundation import NSURL\n",
    "from time       import sleep"
   ]
  },
  {
   "cell_type": "code",
   "execution_count": 27,
   "metadata": {},
   "outputs": [],
   "source": [
    "def talk():\n",
    "    input=sr.Recognizer()\n",
    "    with sr.Microphone() as source:\n",
    "        audio=input.listen(source)\n",
    "        data=\"\"\n",
    "        try:\n",
    "            data=input.recognize_google(audio)\n",
    "            print(\"Your question is, \" + data)\n",
    "            \n",
    "        except sr.UnknownValueError:\n",
    "            print(\"Sorry I did not hear your question, Please repeat again.\")\n",
    "    return data"
   ]
  },
  {
   "cell_type": "code",
   "execution_count": 28,
   "metadata": {},
   "outputs": [],
   "source": [
    "def respond(output):\n",
    "    num=0\n",
    "    print(output)\n",
    "    num += 1\n",
    "    response=gTTS(text=output, lang='en')\n",
    "    file = str(num)+\".mp3\"\n",
    "    response.save(file)\n",
    "    playsound.playsound(file, True)\n",
    "    os.remove(file)"
   ]
  },
  {
   "cell_type": "code",
   "execution_count": null,
   "metadata": {},
   "outputs": [],
   "source": []
  },
  {
   "cell_type": "code",
   "execution_count": 38,
   "metadata": {},
   "outputs": [
    {
     "name": "stdout",
     "output_type": "stream",
     "text": [
      "Hi, I am Motomus your personal desktop assistant\n",
      "How can I help you?\n",
      "Your question is, Hippopotamus search hippopotamus\n"
     ]
    },
    {
     "ename": "NameError",
     "evalue": "name 'time' is not defined",
     "output_type": "error",
     "traceback": [
      "\u001b[0;31m---------------------------------------------------------------------------\u001b[0m",
      "\u001b[0;31mNameError\u001b[0m                                 Traceback (most recent call last)",
      "\u001b[0;32m<ipython-input-38-65699f13aebf>\u001b[0m in \u001b[0;36m<module>\u001b[0;34m\u001b[0m\n\u001b[1;32m     28\u001b[0m             \u001b[0mtext\u001b[0m \u001b[0;34m=\u001b[0m \u001b[0mtext\u001b[0m\u001b[0;34m.\u001b[0m\u001b[0mreplace\u001b[0m\u001b[0;34m(\u001b[0m\u001b[0;34m\"search\"\u001b[0m\u001b[0;34m,\u001b[0m \u001b[0;34m\"\"\u001b[0m\u001b[0;34m)\u001b[0m\u001b[0;34m\u001b[0m\u001b[0;34m\u001b[0m\u001b[0m\n\u001b[1;32m     29\u001b[0m             \u001b[0mwebbrowser\u001b[0m\u001b[0;34m.\u001b[0m\u001b[0mopen_new_tab\u001b[0m\u001b[0;34m(\u001b[0m\u001b[0mtext\u001b[0m\u001b[0;34m)\u001b[0m\u001b[0;34m\u001b[0m\u001b[0;34m\u001b[0m\u001b[0m\n\u001b[0;32m---> 30\u001b[0;31m             \u001b[0mtime\u001b[0m\u001b[0;34m.\u001b[0m\u001b[0msleep\u001b[0m\u001b[0;34m(\u001b[0m\u001b[0;36m5\u001b[0m\u001b[0;34m)\u001b[0m\u001b[0;34m\u001b[0m\u001b[0;34m\u001b[0m\u001b[0m\n\u001b[0m\u001b[1;32m     31\u001b[0m \u001b[0;34m\u001b[0m\u001b[0m\n\u001b[1;32m     32\u001b[0m         \u001b[0;32melif\u001b[0m \u001b[0;34m\"calculate\"\u001b[0m \u001b[0;32mor\u001b[0m \u001b[0;34m\"what is\"\u001b[0m \u001b[0;32min\u001b[0m \u001b[0mtext\u001b[0m\u001b[0;34m:\u001b[0m\u001b[0;34m\u001b[0m\u001b[0;34m\u001b[0m\u001b[0m\n",
      "\u001b[0;31mNameError\u001b[0m: name 'time' is not defined"
     ]
    }
   ],
   "source": [
    "if __name__=='__main__':\n",
    "    respond(\"Hi, I am Motomus your personal desktop assistant\")\n",
    "          \n",
    "    while(1):\n",
    "        respond(\"How can I help you?\")\n",
    "        text=talk().lower()\n",
    "        \n",
    "        if text==0:\n",
    "            continue\n",
    "            \n",
    "        if \"stop\" in str(text) or \"exit\" in str(text) or \"bye\" in str(text):\n",
    "            respond(\"Ok bye and take care\")\n",
    "            break\n",
    "            \n",
    "        if 'wikipedia' in text:\n",
    "            respond('Searching Wikipedia')\n",
    "            text =text.replace(\"wikipedia\", \"\")\n",
    "            results = wikipedia.summary(text, sentences=3)\n",
    "            respond(\"According to Wikipedia\")\n",
    "            print(results)\n",
    "            respond(results)\n",
    "                  \n",
    "        elif 'time' in text:\n",
    "            strTime=datetime.datetime.now().strftime(\"%H:%M:%S\")\n",
    "            respond(f\"the time is {strTime}\")     \n",
    "        \n",
    "        elif 'search'  in text:\n",
    "            text = text.replace(\"search\", \"\")\n",
    "            webbrowser.open_new_tab(text)\n",
    "            time.sleep(5)\n",
    "        \n",
    "        elif \"calculate\" or \"what is\" in text: \n",
    "            question=talk()\n",
    "            app_id=\"Mention your API Key\"\n",
    "            client = wolframalpha.Client(app_id)\n",
    "            res = client.query(question)\n",
    "            answer = next(res.results).text\n",
    "            respond(\"The answer is \" + answer)\n",
    "            \n",
    "        elif 'open google' in text:\n",
    "            webbrowser.open_new_tab(\"https://www.google.com\")\n",
    "            respond(\"Google is open\")\n",
    "            time.sleep(5)\n",
    "            \n",
    "        elif 'youtube' in text: \n",
    "            driver = webdriver.Chrome(r\"Mention your webdriver location\") \n",
    "            driver.implicitly_wait(1) \n",
    "            driver.maximize_window()\n",
    "            respond(\"Opening in youtube\") \n",
    "            indx = text.split().index('youtube') \n",
    "            query = text.split()[indx + 1:] \n",
    "            driver.get(\"http://www.youtube.com/results?search_query =\" + '+'.join(query))              \n",
    "                \n",
    "        elif \"open word\" in text: \n",
    "            respond(\"Opening Microsoft Word\") \n",
    "            os.startfile('Mention location of Word in your system') \n",
    "        \n",
    "        else:\n",
    "           respond(\"Application not available\")"
   ]
  },
  {
   "cell_type": "code",
   "execution_count": null,
   "metadata": {},
   "outputs": [],
   "source": []
  },
  {
   "cell_type": "code",
   "execution_count": null,
   "metadata": {},
   "outputs": [],
   "source": []
  }
 ],
 "metadata": {
  "kernelspec": {
   "display_name": "Python 3",
   "language": "python",
   "name": "python3"
  },
  "language_info": {
   "codemirror_mode": {
    "name": "ipython",
    "version": 3
   },
   "file_extension": ".py",
   "mimetype": "text/x-python",
   "name": "python",
   "nbconvert_exporter": "python",
   "pygments_lexer": "ipython3",
   "version": "3.7.1"
  }
 },
 "nbformat": 4,
 "nbformat_minor": 4
}
